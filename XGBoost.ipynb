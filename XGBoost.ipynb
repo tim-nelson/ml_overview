{
 "cells": [
  {
   "cell_type": "markdown",
   "id": "db6fd375-6a12-4bf9-811a-834972d08c41",
   "metadata": {},
   "source": [
    "# XGBoost"
   ]
  }
 ],
 "metadata": {
  "kernelspec": {
   "display_name": "Python [conda env:ml]",
   "language": "python",
   "name": "conda-env-ml-py"
  },
  "language_info": {
   "codemirror_mode": {
    "name": "ipython",
    "version": 3
   },
   "file_extension": ".py",
   "mimetype": "text/x-python",
   "name": "python",
   "nbconvert_exporter": "python",
   "pygments_lexer": "ipython3",
   "version": "3.10.8"
  }
 },
 "nbformat": 4,
 "nbformat_minor": 5
}
