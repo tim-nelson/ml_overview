{
 "cells": [
  {
   "cell_type": "markdown",
   "metadata": {},
   "source": [
    "# Getting Checkpoints and Tensorboard to work"
   ]
  },
  {
   "cell_type": "code",
   "execution_count": 57,
   "metadata": {},
   "outputs": [
    {
     "name": "stdout",
     "output_type": "stream",
     "text": [
      "The autoreload extension is already loaded. To reload it, use:\n",
      "  %reload_ext autoreload\n"
     ]
    }
   ],
   "source": [
    "# Import built-in Python modules\n",
    "import sys\n",
    "sys.path.append(\"..\")\n",
    "\n",
    "# Import third-party modules\n",
    "import pandas as pd\n",
    "import numpy as np\n",
    "import tensorflow as tf\n",
    "from tf.keras.datasets import mnist\n",
    "from sklearn.model_selection import train_test_split\n",
    "import keras_tuner as kt\n",
    "\n",
    "# OPTIONAL: Load the \"autoreload\" extension so that code can change\n",
    "%load_ext autoreload\n",
    "\n",
    "# OPTIONAL: always reload modules so that as you change code in src, it gets loaded\n",
    "%autoreload 2\n",
    "\n",
    "from src.models.build_models import build_model, build_model_kt\n",
    "from src.models.train import train_model\n",
    "from src.models.evaluate import evaluate_model, display_tuner_trials\n",
    "from src.file_management.file_handling import generate_output_dir, load_latest_model\n",
    "from src.file_management.Logger import Logger\n",
    "from src.data.preprocess import preprocess_train, preprocess_val_test\n",
    "\n",
    "\n",
    "MODELS_DIR = Path(\"../models/\")"
   ]
  },
  {
   "cell_type": "markdown",
   "metadata": {},
   "source": [
    "**Run in terminal:**\n",
    "```\n",
    "tensorboard --logdir \"C:\\Users\\tmane\\OneDrive\\Documents\\GitHub\\ml_overview\\models\" \n",
    "```"
   ]
  },
  {
   "cell_type": "code",
   "execution_count": 4,
   "metadata": {},
   "outputs": [],
   "source": [
    "# tf.data API: https://www.youtube.com/watch?v=4WNz2xrGe8w\n",
    "\n",
    "(X_train_full, y_train_full), (X_test, y_test) = mnist.load_data()\n",
    "\n",
    "# Split the training data into training and validation sets\n",
    "X_train, X_val, y_train, y_val = train_test_split(\n",
    "    X_train_full, y_train_full, test_size=0.2, random_state=42\n",
    ")\n",
    "\n",
    "# Create datasets\n",
    "train_dataset_full = tf.data.Dataset.from_tensor_slices((X_train_full, y_train_full))\n",
    "train_dataset = tf.data.Dataset.from_tensor_slices((X_train, y_train))\n",
    "val_dataset = tf.data.Dataset.from_tensor_slices((X_val, y_val))\n",
    "test_dataset = tf.data.Dataset.from_tensor_slices((X_test, y_test))\n",
    "\n",
    "\n",
    "train_dataset_full = preprocess_train(train_dataset_full)\n",
    "train_dataset = preprocess_train(train_dataset)\n",
    "val_dataset = preprocess_val_test(val_dataset)\n",
    "test_dataset = preprocess_val_test(test_dataset)"
   ]
  },
  {
   "cell_type": "code",
   "execution_count": 5,
   "metadata": {},
   "outputs": [
    {
     "name": "stdout",
     "output_type": "stream",
     "text": [
      "Output directory: ..\\models\\00007-mnist\n"
     ]
    }
   ],
   "source": [
    "run_dir_path = generate_output_dir(\"mnist\")"
   ]
  },
  {
   "cell_type": "code",
   "execution_count": 10,
   "metadata": {},
   "outputs": [
    {
     "name": "stdout",
     "output_type": "stream",
     "text": [
      "Epoch 1/5\n",
      "\n",
      "Epoch 00001: saving optimizer to ..\\models\\00007-mnist\\checkpoints\\model-01-0.20.pickle\n",
      "750/750 - 7s - loss: 0.3922 - accuracy: 0.8805 - root_mean_squared_error: 5.2277 - val_loss: 0.2022 - val_accuracy: 0.9402 - val_root_mean_squared_error: 5.2497 - 7s/epoch - 9ms/step\n",
      "Epoch 2/5\n",
      "\n",
      "Epoch 00002: saving optimizer to ..\\models\\00007-mnist\\checkpoints\\model-02-0.16.pickle\n",
      "750/750 - 3s - loss: 0.1768 - accuracy: 0.9468 - root_mean_squared_error: 5.2289 - val_loss: 0.1586 - val_accuracy: 0.9512 - val_root_mean_squared_error: 5.2500 - 3s/epoch - 5ms/step\n",
      "Epoch 3/5\n",
      "\n",
      "Epoch 00003: saving optimizer to ..\\models\\00007-mnist\\checkpoints\\model-03-0.15.pickle\n",
      "750/750 - 3s - loss: 0.1223 - accuracy: 0.9629 - root_mean_squared_error: 5.2291 - val_loss: 0.1539 - val_accuracy: 0.9536 - val_root_mean_squared_error: 5.2501 - 3s/epoch - 4ms/step\n",
      "Epoch 4/5\n",
      "\n",
      "Epoch 00004: saving optimizer to ..\\models\\00007-mnist\\checkpoints\\model-04-0.15.pickle\n",
      "750/750 - 3s - loss: 0.0912 - accuracy: 0.9722 - root_mean_squared_error: 5.2293 - val_loss: 0.1514 - val_accuracy: 0.9545 - val_root_mean_squared_error: 5.2502 - 3s/epoch - 5ms/step\n",
      "Epoch 5/5\n",
      "\n",
      "Epoch 00005: saving optimizer to ..\\models\\00007-mnist\\checkpoints\\model-05-0.14.pickle\n",
      "750/750 - 3s - loss: 0.0707 - accuracy: 0.9784 - root_mean_squared_error: 5.2294 - val_loss: 0.1404 - val_accuracy: 0.9588 - val_root_mean_squared_error: 5.2503 - 3s/epoch - 5ms/step\n",
      "Elapsed time: 0:00:20.78\n"
     ]
    }
   ],
   "source": [
    "with Logger(run_dir_path):\n",
    "    model = build_model()\n",
    "    train_model(model, train_dataset, val_dataset, run_dir_path, max_epochs=5,  batch_size=128)"
   ]
  },
  {
   "cell_type": "code",
   "execution_count": 11,
   "metadata": {},
   "outputs": [
    {
     "name": "stdout",
     "output_type": "stream",
     "text": [
      "Test loss: 0.13705205917358398\n",
      "Test accuracy: 0.9592000246047974\n"
     ]
    }
   ],
   "source": [
    "evaluate_model(model, test_dataset)"
   ]
  },
  {
   "cell_type": "code",
   "execution_count": 13,
   "metadata": {},
   "outputs": [
    {
     "name": "stdout",
     "output_type": "stream",
     "text": [
      "Latest HDF5 file: ..\\models\\00007-mnist\\checkpoints\\model-05-0.14.hdf5\n",
      "Latest pickle file: ..\\models\\00007-mnist\\checkpoints\\model-05-0.14.pickle\n"
     ]
    }
   ],
   "source": [
    "latest_hdf5, latest_pickle = get_latest_hdf5_pickle(run_dir_path)\n",
    "\n",
    "epoch, model, opt = load_model_data(latest_hdf5, latest_pickle)"
   ]
  },
  {
   "cell_type": "code",
   "execution_count": 14,
   "metadata": {},
   "outputs": [
    {
     "name": "stdout",
     "output_type": "stream",
     "text": [
      "Epoch 6/10\n",
      "\n",
      "Epoch 00006: saving optimizer to ..\\models\\00007-mnist\\checkpoints\\model-06-0.15.pickle\n",
      "750/750 - 4s - loss: 0.0545 - accuracy: 0.9838 - root_mean_squared_error: 5.2295 - val_loss: 0.1542 - val_accuracy: 0.9590 - val_root_mean_squared_error: 5.2503 - 4s/epoch - 5ms/step\n",
      "Epoch 7/10\n",
      "\n",
      "Epoch 00007: saving optimizer to ..\\models\\00007-mnist\\checkpoints\\model-07-0.13.pickle\n",
      "750/750 - 3s - loss: 0.0430 - accuracy: 0.9875 - root_mean_squared_error: 5.2295 - val_loss: 0.1299 - val_accuracy: 0.9646 - val_root_mean_squared_error: 5.2504 - 3s/epoch - 5ms/step\n",
      "Epoch 8/10\n",
      "\n",
      "Epoch 00008: saving optimizer to ..\\models\\00007-mnist\\checkpoints\\model-08-0.15.pickle\n",
      "750/750 - 4s - loss: 0.0329 - accuracy: 0.9897 - root_mean_squared_error: 5.2296 - val_loss: 0.1482 - val_accuracy: 0.9628 - val_root_mean_squared_error: 5.2504 - 4s/epoch - 5ms/step\n",
      "Epoch 9/10\n",
      "\n",
      "Epoch 00009: saving optimizer to ..\\models\\00007-mnist\\checkpoints\\model-09-0.14.pickle\n",
      "750/750 - 4s - loss: 0.0253 - accuracy: 0.9921 - root_mean_squared_error: 5.2296 - val_loss: 0.1371 - val_accuracy: 0.9652 - val_root_mean_squared_error: 5.2504 - 4s/epoch - 5ms/step\n",
      "Epoch 10/10\n",
      "\n",
      "Epoch 00010: saving optimizer to ..\\models\\00007-mnist\\checkpoints\\model-10-0.14.pickle\n",
      "750/750 - 4s - loss: 0.0200 - accuracy: 0.9942 - root_mean_squared_error: 5.2296 - val_loss: 0.1449 - val_accuracy: 0.9641 - val_root_mean_squared_error: 5.2505 - 4s/epoch - 5ms/step\n",
      "Elapsed time: 0:00:18.19\n"
     ]
    }
   ],
   "source": [
    "with Logger(run_dir_path):\n",
    "    train_model(model, train_dataset, val_dataset, run_dir_path, initial_epoch=epoch, max_epochs=10,  batch_size=128)"
   ]
  },
  {
   "cell_type": "code",
   "execution_count": 15,
   "metadata": {},
   "outputs": [
    {
     "name": "stdout",
     "output_type": "stream",
     "text": [
      "Test loss: 0.124617800116539\n",
      "Test accuracy: 0.967199981212616\n"
     ]
    }
   ],
   "source": [
    "evaluate_model(model, test_dataset)"
   ]
  },
  {
   "cell_type": "code",
   "execution_count": 16,
   "metadata": {},
   "outputs": [
    {
     "name": "stdout",
     "output_type": "stream",
     "text": [
      "Output directory: ..\\models\\00008-mnist_hyp_search\n"
     ]
    }
   ],
   "source": [
    "run_dir = generate_output_dir(\"mnist_hyp_search\")"
   ]
  },
  {
   "cell_type": "code",
   "execution_count": 30,
   "metadata": {},
   "outputs": [
    {
     "name": "stdout",
     "output_type": "stream",
     "text": [
      "Approx no. epochs per hyperband iteration: 6.36915766306784\n"
     ]
    }
   ],
   "source": [
    "max_epochs = 4\n",
    "factor = 3\n",
    " \n",
    "# Approx number of models\n",
    "print(\"Approx no. epochs per hyperband iteration:\", \n",
    "      max_epochs * (np.log(max_epochs) / np.log(factor)) ** 2)"
   ]
  },
  {
   "cell_type": "code",
   "execution_count": 18,
   "metadata": {},
   "outputs": [
    {
     "name": "stdout",
     "output_type": "stream",
     "text": [
      "Trial 20 Complete [00h 00m 17s]\n",
      "val_accuracy: 0.9153333306312561\n",
      "\n",
      "Best val_accuracy So Far: 0.9629999995231628\n",
      "Total elapsed time: 00h 03m 10s\n",
      "INFO:tensorflow:Oracle triggered exit\n"
     ]
    }
   ],
   "source": [
    "hyperband_tuner = kt.Hyperband(\n",
    "    build_model_kt, objective=\"val_accuracy\", seed=42,\n",
    "    max_epochs=max_epochs, factor=factor, hyperband_iterations=2,\n",
    "    overwrite=False, directory=MODELS_DIR, project_name=run_dir)\n",
    "\n",
    "\n",
    "root_logdir = Path(hyperband_tuner.project_dir) / \"tb_logs\"\n",
    "tensorboard_cb = tf.keras.callbacks.TensorBoard(str(root_logdir))\n",
    "early_stopping_cb = tf.keras.callbacks.EarlyStopping(patience=2)\n",
    "hyperband_tuner.search(train_dataset, epochs=10,\n",
    "                       validation_data=val_dataset,\n",
    "                       callbacks=[early_stopping_cb, tensorboard_cb])"
   ]
  },
  {
   "cell_type": "code",
   "execution_count": 53,
   "metadata": {},
   "outputs": [
    {
     "name": "stdout",
     "output_type": "stream",
     "text": [
      "{'n_hidden': 2, 'n_neurons': 451, 'learning_rate': 0.001, 'optimizer': 'adam', 'tuner/epochs': 4, 'tuner/initial_epoch': 0, 'tuner/bracket': 0, 'tuner/round': 0}\n"
     ]
    }
   ],
   "source": [
    "## Get the optimal hyperparameters\n",
    "# top3_models = hyperband_tuner.get_best_models(num_models=3)\n",
    "# best_model = top3_models[0]\n",
    "\n",
    "# display_tuner_trials(hyperband_tuner, 3)\n",
    "\n",
    "best_hps=hyperband_tuner.get_best_hyperparameters(num_trials=1)[0]\n",
    "print(best_hps.values)"
   ]
  },
  {
   "cell_type": "code",
   "execution_count": 54,
   "metadata": {},
   "outputs": [
    {
     "name": "stdout",
     "output_type": "stream",
     "text": [
      "Output directory: ..\\models\\00009-mnist_hyp_search_best\n"
     ]
    }
   ],
   "source": [
    "run_dir = generate_output_dir(\"mnist_hyp_search_best\")"
   ]
  },
  {
   "cell_type": "code",
   "execution_count": 55,
   "metadata": {},
   "outputs": [
    {
     "name": "stdout",
     "output_type": "stream",
     "text": [
      "Epoch 1/10\n",
      "\n",
      "Epoch 00001: saving optimizer to ..\\models\\00009-mnist_hyp_search_best\\checkpoints\\model-01-0.20.pickle\n",
      "750/750 - 5s - loss: 0.3333 - accuracy: 0.8967 - val_loss: 0.1974 - val_accuracy: 0.9370 - 5s/epoch - 7ms/step\n",
      "Epoch 2/10\n",
      "\n",
      "Epoch 00002: saving optimizer to ..\\models\\00009-mnist_hyp_search_best\\checkpoints\\model-02-0.14.pickle\n",
      "750/750 - 4s - loss: 0.1454 - accuracy: 0.9554 - val_loss: 0.1444 - val_accuracy: 0.9564 - 4s/epoch - 6ms/step\n",
      "Epoch 3/10\n",
      "\n",
      "Epoch 00003: saving optimizer to ..\\models\\00009-mnist_hyp_search_best\\checkpoints\\model-03-0.18.pickle\n",
      "750/750 - 4s - loss: 0.0985 - accuracy: 0.9694 - val_loss: 0.1754 - val_accuracy: 0.9494 - 4s/epoch - 6ms/step\n",
      "Epoch 4/10\n",
      "\n",
      "Epoch 00004: saving optimizer to ..\\models\\00009-mnist_hyp_search_best\\checkpoints\\model-04-0.14.pickle\n",
      "750/750 - 5s - loss: 0.0714 - accuracy: 0.9765 - val_loss: 0.1416 - val_accuracy: 0.9617 - 5s/epoch - 6ms/step\n",
      "Epoch 5/10\n",
      "\n",
      "Epoch 00005: saving optimizer to ..\\models\\00009-mnist_hyp_search_best\\checkpoints\\model-05-0.14.pickle\n",
      "750/750 - 5s - loss: 0.0579 - accuracy: 0.9808 - val_loss: 0.1384 - val_accuracy: 0.9640 - 5s/epoch - 6ms/step\n",
      "Epoch 6/10\n",
      "\n",
      "Epoch 00006: saving optimizer to ..\\models\\00009-mnist_hyp_search_best\\checkpoints\\model-06-0.14.pickle\n",
      "750/750 - 4s - loss: 0.0468 - accuracy: 0.9847 - val_loss: 0.1412 - val_accuracy: 0.9645 - 4s/epoch - 6ms/step\n",
      "Epoch 7/10\n",
      "\n",
      "Epoch 00007: saving optimizer to ..\\models\\00009-mnist_hyp_search_best\\checkpoints\\model-07-0.14.pickle\n",
      "750/750 - 4s - loss: 0.0348 - accuracy: 0.9882 - val_loss: 0.1409 - val_accuracy: 0.9653 - 4s/epoch - 6ms/step\n",
      "Epoch 8/10\n",
      "\n",
      "Epoch 00008: saving optimizer to ..\\models\\00009-mnist_hyp_search_best\\checkpoints\\model-08-0.15.pickle\n",
      "750/750 - 4s - loss: 0.0350 - accuracy: 0.9885 - val_loss: 0.1538 - val_accuracy: 0.9655 - 4s/epoch - 6ms/step\n",
      "Elapsed time: 0:00:36.32\n"
     ]
    }
   ],
   "source": [
    "# train model using best hyperparameters\n",
    "with Logger(run_dir):\n",
    "    best_model = hyperband_tuner.hypermodel.build(best_hps)\n",
    "    train_model(best_model, train_dataset, val_dataset, run_dir, max_epochs=10,  batch_size=128)"
   ]
  },
  {
   "cell_type": "code",
   "execution_count": 58,
   "metadata": {},
   "outputs": [
    {
     "name": "stdout",
     "output_type": "stream",
     "text": [
      "Latest HDF5 file: ..\\models\\00009-mnist_hyp_search_best\\checkpoints\\model-08-0.15.hdf5\n",
      "Latest pickle file: ..\\models\\00009-mnist_hyp_search_best\\checkpoints\\model-08-0.15.pickle\n"
     ]
    }
   ],
   "source": [
    "epoch, model, opt = load_latest_model(run_dir)"
   ]
  },
  {
   "cell_type": "code",
   "execution_count": 62,
   "metadata": {},
   "outputs": [
    {
     "name": "stdout",
     "output_type": "stream",
     "text": [
      "Epoch 9/12\n",
      "\n",
      "Epoch 00009: saving optimizer to ..\\models\\00009-mnist_hyp_search_best\\checkpoints\\model-09-0.16.pickle\n",
      "750/750 - 4s - loss: 0.0293 - accuracy: 0.9902 - val_loss: 0.1629 - val_accuracy: 0.9628 - 4s/epoch - 6ms/step\n",
      "Epoch 10/12\n",
      "\n",
      "Epoch 00010: saving optimizer to ..\\models\\00009-mnist_hyp_search_best\\checkpoints\\model-10-0.16.pickle\n",
      "750/750 - 4s - loss: 0.0226 - accuracy: 0.9925 - val_loss: 0.1628 - val_accuracy: 0.9655 - 4s/epoch - 6ms/step\n",
      "Epoch 11/12\n",
      "\n",
      "Epoch 00011: saving optimizer to ..\\models\\00009-mnist_hyp_search_best\\checkpoints\\model-11-0.17.pickle\n",
      "750/750 - 4s - loss: 0.0235 - accuracy: 0.9920 - val_loss: 0.1719 - val_accuracy: 0.9649 - 4s/epoch - 5ms/step\n",
      "Epoch 12/12\n",
      "\n",
      "Epoch 00012: saving optimizer to ..\\models\\00009-mnist_hyp_search_best\\checkpoints\\model-12-0.20.pickle\n",
      "750/750 - 4s - loss: 0.0190 - accuracy: 0.9937 - val_loss: 0.2038 - val_accuracy: 0.9617 - 4s/epoch - 5ms/step\n",
      "Elapsed time: 0:00:16.49\n"
     ]
    }
   ],
   "source": [
    "with Logger(run_dir):\n",
    "    train_model(model, train_dataset, val_dataset, run_dir, initial_epoch=epoch, max_epochs=12,  batch_size=128)"
   ]
  }
 ],
 "metadata": {
  "kernelspec": {
   "display_name": "tf",
   "language": "python",
   "name": "python3"
  },
  "language_info": {
   "codemirror_mode": {
    "name": "ipython",
    "version": 3
   },
   "file_extension": ".py",
   "mimetype": "text/x-python",
   "name": "python",
   "nbconvert_exporter": "python",
   "pygments_lexer": "ipython3",
   "version": "3.10.11"
  },
  "orig_nbformat": 4
 },
 "nbformat": 4,
 "nbformat_minor": 2
}
