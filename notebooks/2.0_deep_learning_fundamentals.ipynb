{
 "cells": [
  {
   "attachments": {},
   "cell_type": "markdown",
   "id": "836c4c81-3546-4544-833c-22267adf0447",
   "metadata": {},
   "source": [
    "# Fundamentals of Deep Learning Notes"
   ]
  },
  {
   "attachments": {},
   "cell_type": "markdown",
   "id": "7579970f",
   "metadata": {},
   "source": [
    "pip install both tesnforflow and keras for everything to work!"
   ]
  },
  {
   "attachments": {},
   "cell_type": "markdown",
   "id": "9c18891d",
   "metadata": {},
   "source": [
    "##  The universal workflow of machine learning (7 steps)"
   ]
  },
  {
   "attachments": {},
   "cell_type": "markdown",
   "id": "5aa86001",
   "metadata": {},
   "source": [
    "1. Define the model and assemble the data\n",
    "    * What will your input data be?\n",
    "    * What type of problem are you facing? (e.g. binary classification, etc.)\n",
    "    * **Hypotheses**  \n",
    "        a. outputs can be predicted given inputs and   \n",
    "        b. available data is sufficiently informative to learn the relationship beween inputs and outputs.\n",
    "2. Choose a measure of success\n",
    "    * Accuracy? Precision and recall? Customer-retention rate?\n",
    "3. Decide on evaluation protocol\n",
    "    * Simple hold-out validation\n",
    "        - if little data is available, then your validation and test sets may contain too few samples to be statistically representative of the data at hand.\n",
    "        - easy to recognize: if different random shuffling rounds of the data before splitting end up yielding very different measures of model performance.\n",
    "    * K-fold cross-validation  \n",
    "        - little data\n",
    "    * Iterated K-fold validation with shuffling  \n",
    "        - little data available and you need to evaluate your model as precisely as possible (use for Kaggle)\n",
    "4. Prepare your data\n",
    "    * Vectorisation - turn inputs and targets into tensors of floating-point data\n",
    "    * Value normalisation. Data should have the following characteristics:\n",
    "        - Take small values — Typically, most values should be in the 0–1 range.\n",
    "        - Be homogenous — That is, all features should take values in roughly the same range  \n",
    "    Otherwise can trigger large gradient updates that will prevent the network from converging.\n",
    "    * Handling missing values\n",
    "        - With neural networks, usually safe to set missing values as 0 (if 0 not meaningful)\n",
    "        - Need to train with missing data if there is missing data in test set (artificially generate)\n",
    "    * Feature engineering\n",
    "    * **Extra considerations**\n",
    "        - Data representativeness (usually should randomly shuffle data)\n",
    "        - The arrow of time (do NOT randomly shuffle data)\n",
    "        - Redundancy in your data - data poins appearing twice and ending up in both train and test datasets\n",
    "5. Develop a model that does better than a baseline\n",
    "    * Last-layer activation—This establishes useful constraints on the network’s output\n",
    "    * Loss function—This should match the type of problem you’re trying to solve.\n",
    "    * Optimization configuration— What optimizer will you use? What will its learning rate be? In most cases, it’s safe to go with rmsprop and its default learning rate.\n",
    "6. Develop a model that overfits\n",
    "    * Add layers\n",
    "    * Make the layers bigger\n",
    "    * Train for more epochs\n",
    "7. Regularize the model (adjust for overfitting/underfitting) and tune hyperparameters\n",
    "    * Add dropout\n",
    "    * Try different architectures: add or remove layers\n",
    "    * Add L1 and/or L2 regularization\n",
    "\n"
   ]
  },
  {
   "attachments": {},
   "cell_type": "markdown",
   "id": "5e173543",
   "metadata": {},
   "source": [
    "| Problem type                           | Last-layer activation | Loss function             |\n",
    "| :-:                                    | :-:                   | :-:                       |\n",
    "|Binary classification                   | sigmoid               | binary_crossentropy       |\n",
    "|Multiclass, single-label classification | softmax               | categorical_crossentropy  |\n",
    "|Multiclass, multilabel classification   | sigmoid               | binary_crossentropy       |\n",
    "|Regression to arbitrary values          | None                  |  mse                      |\n",
    "|Regression to values between 0 and 1    | sigmoid               | mse or binary_crossentropy|"
   ]
  },
  {
   "attachments": {},
   "cell_type": "markdown",
   "id": "fd16df3d-2b4a-444f-869a-328f68225249",
   "metadata": {},
   "source": [
    "**BINARY CLASSIFICATION**  \n",
    "**Input data:** vectors  \n",
    "**Labels:** scalars (1s, 0s)  \n",
    "**Amount of data:** Lots  \n",
    "* 2x `Dense(16, activation='relu')`  \n",
    "* 1x `Dense(1, activation='sigmoid')`  \n",
    "* `optimizer='rmsprop', loss='binary_crossentropy', metrics=['accuracy')`\n",
    "* Validation phase: `epochs=20, batch_size=512, validation_data=(x_val, y_val)`\n",
    "    * `x_val = x_train[:10000]`\n",
    "    * `partial_x_train = x_train[10000:]`\n",
    "    * `y_val = y_train[:10000]`\n",
    "    * `partial_y_train = y_train[10000:]`\n",
    "\n",
    "**MULTICLASS CLASSIFICATION**  \n",
    "**Input data:** vectors  \n",
    "**Labels:** vectors (1s, 0s) dim 46 (one-hot)  \n",
    "**Amount of data:** Lots  \n",
    "* 2x `Dense(64, activation='relu')` ($64>46$ avoids bottleneck)  \n",
    "* 1x `Dense(46, activation='softmax')`  \n",
    "* `optimizer='rmsprop', loss='categorical_crossentropy', metrics=['accuracy')`  \n",
    "**OR** `loss='sparse_categorical_crossentropy` if cast labels as an integer tensor (instead of one-hot encoding)\n",
    "* Validation phase: `epochs=20, batch_size=512, validation_data=(x_val, y_val)`\n",
    "    * `x_val = x_train[:10000]`\n",
    "    * `partial_x_train = x_train[10000:]`\n",
    "    * `y_val = one_hot_train_labels[:1000]`\n",
    "    * `partial_y_train = one_hot_train_labels[1000:]`\n",
    "\n",
    "**SCALAR REGRESSION**  \n",
    "**Input data:** vectors  \n",
    "**Labels:** scalars ($\\mathbb{R}$)  \n",
    "**Amount of data:** Little ($\\therefore$ K-fold)  \n",
    "* 2x `Dense(64, activation='relu')`  \n",
    "* 1x `Dense(1)`  \n",
    "* `optimizer=\"rmsprop\", loss=\"mse\", metrics=[\"mae\"])`\n",
    "* Validation phase: `epochs=20, batch_size=512, validation_data=(x_val, y_val)`\n",
    "    * `x_val = x_train[:10000]`\n",
    "    * `partial_x_train = x_train[10000:]`\n",
    "    * `y_val = one_hot_train_labels[:1000]`\n",
    "    * `partial_y_train = one_hot_train_labels[1000:]`\n",
    "- Remember to scale each feature\n",
    "- K fold when little data"
   ]
  },
  {
   "attachments": {},
   "cell_type": "markdown",
   "id": "732bc982",
   "metadata": {},
   "source": [
    "#### References\n",
    "* binary cross-entropy:  \n",
    "https://towardsdatascience.com/understanding-binary-cross-entropy-log-loss-a-visual-explanation-a3ac6025181a  \n",
    "Crossentropy is usually the best choice when you’re dealing with models that output probabilities. Crossentropy is a quantity from the field of Information Theory that measures the distance between probability distributions or, in this case, between the ground-truth distribution and your predictions.\n",
    "\n",
    "* batch/minibatch  \n",
    "https://stats.stackexchange.com/questions/117919/what-are-the-differences-between-epoch-batch-and-minibatch#:~:text=Batch%20means%20that%20you%20use,your%20data%20during%20one%20iteration."
   ]
  },
  {
   "attachments": {},
   "cell_type": "markdown",
   "id": "03880e77",
   "metadata": {},
   "source": [
    "#### Additional notes\n",
    "* Adjusting to validation data will leak information about the validation data into the model."
   ]
  },
  {
   "attachments": {},
   "cell_type": "markdown",
   "id": "2d14a4ef-421b-4cf2-8533-568d30fecc57",
   "metadata": {},
   "source": [
    "# Examples"
   ]
  },
  {
   "cell_type": "code",
   "execution_count": 8,
   "id": "983e8b6a-73e6-4174-9937-7ce0a3332944",
   "metadata": {},
   "outputs": [],
   "source": [
    "import matplotlib.pyplot as plt\n",
    "import numpy as np"
   ]
  },
  {
   "attachments": {},
   "cell_type": "markdown",
   "id": "e5231de8-3236-4ea3-b33e-781a387648b6",
   "metadata": {
    "jp-MarkdownHeadingCollapsed": true,
    "tags": []
   },
   "source": [
    "## MNIST"
   ]
  },
  {
   "attachments": {},
   "cell_type": "markdown",
   "id": "612c929c-924f-47ef-b5c8-bb80d3c07179",
   "metadata": {},
   "source": [
    "### Data"
   ]
  },
  {
   "cell_type": "code",
   "execution_count": 2,
   "id": "ea87a30f-b500-4d17-ba5a-fbc32d216f0c",
   "metadata": {},
   "outputs": [],
   "source": [
    "from keras.datasets import mnist"
   ]
  },
  {
   "cell_type": "code",
   "execution_count": 3,
   "id": "6d5ab7e3-8737-4bd9-952b-459f7ed225ab",
   "metadata": {
    "tags": []
   },
   "outputs": [],
   "source": [
    "(train_images, train_labels), (test_images, test_labels) = mnist.load_data()"
   ]
  },
  {
   "cell_type": "code",
   "execution_count": 4,
   "id": "4527771c-0a9b-4216-80d5-97673c1fbe1b",
   "metadata": {},
   "outputs": [
    {
     "name": "stdout",
     "output_type": "stream",
     "text": [
      "(60000, 28, 28) [5 0 4 ... 5 6 8]\n",
      "(60000, 28, 28) [7 2 1 ... 4 5 6]\n"
     ]
    }
   ],
   "source": [
    "print(train_images.shape, train_labels)\n",
    "\n",
    "print(train_images.shape, test_labels)"
   ]
  },
  {
   "cell_type": "code",
   "execution_count": 5,
   "id": "69f25a8a-fd20-4f66-9aeb-ccf091e5e680",
   "metadata": {},
   "outputs": [
    {
     "data": {
      "image/png": "[encoded data removed]",
      "text/plain": [
       "<Figure size 640x480 with 1 Axes>"
      ]
     },
     "metadata": {},
     "output_type": "display_data"
    }
   ],
   "source": [
    "digit = train_images[4]\n",
    "\n",
    "plt.imshow(digit, cmap=plt.cm.binary)\n",
    "plt.show()"
   ]
  },
  {
   "attachments": {},
   "cell_type": "markdown",
   "id": "db74ffae-ea9c-43a6-bf92-400fd48e5641",
   "metadata": {},
   "source": [
    "### Network architecture"
   ]
  },
  {
   "cell_type": "code",
   "execution_count": 6,
   "id": "fc8704ad-7e28-43e1-b4cb-b30f9d51fe1e",
   "metadata": {},
   "outputs": [],
   "source": [
    "from keras import layers, models"
   ]
  },
  {
   "cell_type": "code",
   "execution_count": 7,
   "id": "c37b3818-9328-4add-b70f-032ccbe10d01",
   "metadata": {},
   "outputs": [],
   "source": [
    "network = models.Sequential()\n",
    "network.add(layers.Dense(512, activation=\"relu\", input_shape=(28 * 28,)))\n",
    "network.add(layers.Dense(10, activation=\"softmax\"))"
   ]
  },
  {
   "attachments": {},
   "cell_type": "markdown",
   "id": "449bee4c-5ae7-461d-baa5-968a0c72c034",
   "metadata": {},
   "source": [
    "### Compilation step"
   ]
  },
  {
   "cell_type": "code",
   "execution_count": 8,
   "id": "8a76677c-c4d9-4a56-bed8-6e0b02651388",
   "metadata": {},
   "outputs": [],
   "source": [
    "network.compile(\n",
    "    optimizer=\"rmsprop\", loss=\"categorical_crossentropy\", metrics=[\"accuracy\"]\n",
    ")"
   ]
  },
  {
   "attachments": {},
   "cell_type": "markdown",
   "id": "4309a4b7-d2e5-4ad1-af2b-3cdd543e239c",
   "metadata": {},
   "source": [
    "### Prepare image data"
   ]
  },
  {
   "cell_type": "code",
   "execution_count": 9,
   "id": "be9078c4-db12-46c4-9630-c49d0984610b",
   "metadata": {},
   "outputs": [
    {
     "name": "stdout",
     "output_type": "stream",
     "text": [
      "(60000, 784) [5 0 4 ... 5 6 8]\n",
      "(60000, 784) [7 2 1 ... 4 5 6]\n"
     ]
    }
   ],
   "source": [
    "train_images = train_images.reshape((60000, 28 * 28))\n",
    "train_images = train_images.astype(\"float32\") / 255\n",
    "\n",
    "test_images = test_images.reshape((10000, 28 * 28))\n",
    "test_images = test_images.astype(\"float32\") / 255\n",
    "\n",
    "print(train_images.shape, train_labels)\n",
    "\n",
    "print(train_images.shape, test_labels)"
   ]
  },
  {
   "attachments": {},
   "cell_type": "markdown",
   "id": "99f784ab-b50e-4ac3-bf40-15560619c910",
   "metadata": {},
   "source": [
    "### Prepare labels data"
   ]
  },
  {
   "cell_type": "code",
   "execution_count": 10,
   "id": "79db06b8-1302-40d2-8462-0ee1995222b4",
   "metadata": {},
   "outputs": [],
   "source": [
    "from keras.utils import to_categorical\n",
    "\n",
    "train_labels = to_categorical(train_labels)\n",
    "test_labels = to_categorical(test_labels)"
   ]
  },
  {
   "attachments": {},
   "cell_type": "markdown",
   "id": "a82d08a2-986f-4e83-9cad-c2a9036b9c08",
   "metadata": {},
   "source": [
    "### Train model"
   ]
  },
  {
   "cell_type": "code",
   "execution_count": 11,
   "id": "df4ba022-620d-439a-b58a-f1910110916c",
   "metadata": {},
   "outputs": [
    {
     "name": "stdout",
     "output_type": "stream",
     "text": [
      "Epoch 1/5\n",
      "469/469 [==============================] - 2s 4ms/step - loss: 0.2670 - accuracy: 0.9232\n",
      "Epoch 2/5\n",
      "469/469 [==============================] - 2s 5ms/step - loss: 0.1075 - accuracy: 0.9685\n",
      "Epoch 3/5\n",
      "469/469 [==============================] - 2s 4ms/step - loss: 0.0715 - accuracy: 0.9790\n",
      "Epoch 4/5\n",
      "469/469 [==============================] - 2s 4ms/step - loss: 0.0514 - accuracy: 0.9850\n",
      "Epoch 5/5\n",
      "469/469 [==============================] - 2s 4ms/step - loss: 0.0386 - accuracy: 0.9884\n"
     ]
    },
    {
     "data": {
      "text/plain": [
       "<keras.callbacks.History at 0x2091162b1f0>"
      ]
     },
     "execution_count": 11,
     "metadata": {},
     "output_type": "execute_result"
    }
   ],
   "source": [
    "network.fit(train_images, train_labels, epochs=5, batch_size=128)"
   ]
  },
  {
   "cell_type": "code",
   "execution_count": 12,
   "id": "879c5830-967d-46ee-ae05-7d9f66ce3b29",
   "metadata": {},
   "outputs": [
    {
     "name": "stdout",
     "output_type": "stream",
     "text": [
      "313/313 [==============================] - 1s 2ms/step - loss: 0.0741 - accuracy: 0.9760\n",
      "test_acc: 0.9760000109672546\n"
     ]
    }
   ],
   "source": [
    "test_loss, test_acc = network.evaluate(test_images, test_labels)\n",
    "print(\"test_acc:\", test_acc)"
   ]
  },
  {
   "attachments": {},
   "cell_type": "markdown",
   "id": "b28f3bf2-8213-4dcf-85db-aadc400c795a",
   "metadata": {
    "jp-MarkdownHeadingCollapsed": true,
    "tags": []
   },
   "source": [
    "## Classifying movie reviews: binary classification"
   ]
  },
  {
   "attachments": {},
   "cell_type": "markdown",
   "id": "45f2f4a8-abcc-40dd-98c7-ceee93f54846",
   "metadata": {
    "tags": []
   },
   "source": [
    "### Imports"
   ]
  },
  {
   "cell_type": "code",
   "execution_count": 1,
   "id": "b788a1dd-5aaf-4316-bdb2-47bbab9c4889",
   "metadata": {},
   "outputs": [],
   "source": [
    "from keras.datasets import imdb"
   ]
  },
  {
   "attachments": {},
   "cell_type": "markdown",
   "id": "4db10e87-c75b-4008-89ed-268a74f9ca9f",
   "metadata": {},
   "source": [
    "### IMBD dataset"
   ]
  },
  {
   "cell_type": "code",
   "execution_count": 2,
   "id": "f232585c-a920-47b9-b827-cf086120644c",
   "metadata": {},
   "outputs": [],
   "source": [
    "(train_data, train_labels), (test_data, test_labels) = imdb.load_data(num_words=10000)"
   ]
  },
  {
   "cell_type": "code",
   "execution_count": 3,
   "id": "c542f631-a5ca-4813-ab79-e5bc699bc0a3",
   "metadata": {},
   "outputs": [
    {
     "name": "stdout",
     "output_type": "stream",
     "text": [
      "train and test labels shape:  (25000,) (25000,)\n",
      "Review 1 length:  218\n",
      "Review 2 length:  189\n",
      "Review 3 length:  141\n",
      "Max word:  9999\n"
     ]
    }
   ],
   "source": [
    "print(\"train and test labels shape: \", train_labels.shape, test_labels.shape)\n",
    "print(\"Review 1 length: \", len(train_data[0]))\n",
    "print(\"Review 2 length: \", len(train_data[1]))\n",
    "print(\"Review 3 length: \", len(train_data[2]))\n",
    "print(\"Max word: \", max([max(sequence) for sequence in train_data]))"
   ]
  },
  {
   "cell_type": "code",
   "execution_count": 4,
   "id": "2c87e738-b706-43e1-b7f6-d9e6551b39eb",
   "metadata": {},
   "outputs": [],
   "source": [
    "def decode_review(index):\n",
    "    word_index = imdb.get_word_index()\n",
    "    reverse_word_index = dict([(value, key) for (key, value) in word_index.items()])\n",
    "    decoded_review = \" \".join(\n",
    "        [reverse_word_index.get(i - 3, \"?\") for i in train_data[index]]\n",
    "    )\n",
    "    return decoded_review"
   ]
  },
  {
   "cell_type": "code",
   "execution_count": 5,
   "id": "0cce3d0d-9510-4b61-99a9-56ac7dcd821d",
   "metadata": {},
   "outputs": [
    {
     "data": {
      "text/plain": [
       "\"? this film was just brilliant casting location scenery story direction everyone's really suited the part they played and you could just imagine being there robert ? is an amazing actor and now the same being director ? father came from the same scottish island as myself so i loved the fact there was a real connection with this film the witty remarks throughout the film were great it was just brilliant so much that i bought the film as soon as it was released for ? and would recommend it to everyone to watch and the fly fishing was amazing really cried at the end it was so sad and you know what they say if you cry at a film it must have been good and this definitely was also ? to the two little boy's that played the ? of norman and paul they were just brilliant children are often left out of the ? list i think because the stars that play them all grown up are such a big profile for the whole film but these children are amazing and should be praised for what they have done don't you think the whole story was so lovely because it was true and was someone's life after all that was shared with us all\""
      ]
     },
     "execution_count": 5,
     "metadata": {},
     "output_type": "execute_result"
    }
   ],
   "source": [
    "decode_review(0)"
   ]
  },
  {
   "attachments": {},
   "cell_type": "markdown",
   "id": "17f925f6-6a80-41a6-a7c9-88a44cad6681",
   "metadata": {},
   "source": [
    "### Preparing the data"
   ]
  },
  {
   "attachments": {},
   "cell_type": "markdown",
   "id": "d3d39f66-874a-43c6-8e05-19f702c445d0",
   "metadata": {},
   "source": [
    "Turn lists of integers into tensors."
   ]
  },
  {
   "cell_type": "code",
   "execution_count": 9,
   "id": "626eb390-527e-4856-babf-557e9d618e05",
   "metadata": {},
   "outputs": [],
   "source": [
    "##  One-hot encode\n",
    "def vectorize_sequences(sequences, dimension=10000):\n",
    "    results = np.zeros((len(sequences), dimension))\n",
    "    for i, sequence in enumerate(sequences):\n",
    "        results[i, sequence] = 1.0\n",
    "    return results\n",
    "\n",
    "\n",
    "x_train = vectorize_sequences(train_data)\n",
    "x_test = vectorize_sequences(test_data)"
   ]
  },
  {
   "cell_type": "code",
   "execution_count": 10,
   "id": "5cb19894-0709-47f8-ac9a-98c7cce38b9d",
   "metadata": {},
   "outputs": [
    {
     "data": {
      "text/plain": [
       "array([0., 1., 1., ..., 0., 0., 0.])"
      ]
     },
     "execution_count": 10,
     "metadata": {},
     "output_type": "execute_result"
    }
   ],
   "source": [
    "x_train[0]"
   ]
  },
  {
   "attachments": {},
   "cell_type": "markdown",
   "id": "eecc1bf2-b18c-423e-b4bd-63f4cf6836a7",
   "metadata": {},
   "source": [
    "Vectorise labels.  \n",
    "(I don't think `np.asarray()` is required as both are already np arrays.)"
   ]
  },
  {
   "cell_type": "code",
   "execution_count": 11,
   "id": "7aa88a9f-2fa7-4aeb-8cf6-8deb82c27faf",
   "metadata": {},
   "outputs": [],
   "source": [
    "y_train = np.asarray(train_labels).astype(\"float32\")\n",
    "y_test = np.asarray(test_labels).astype(\"float32\")"
   ]
  },
  {
   "attachments": {},
   "cell_type": "markdown",
   "id": "1d53fe08-67ec-481f-b2f2-7b711a2049bd",
   "metadata": {},
   "source": [
    "### Building the network"
   ]
  },
  {
   "cell_type": "code",
   "execution_count": 12,
   "id": "6c32d25d-87da-467c-82ff-da6079b502a2",
   "metadata": {},
   "outputs": [],
   "source": [
    "from keras import layers, models\n",
    "\n",
    "model = models.Sequential()\n",
    "model.add(layers.Dense(16, activation=\"relu\", input_shape=(10000,)))\n",
    "model.add(layers.Dense(16, activation=\"relu\"))\n",
    "model.add(layers.Dense(1, activation=\"sigmoid\"))"
   ]
  },
  {
   "cell_type": "code",
   "execution_count": 13,
   "id": "f815fb65-0037-4f91-a624-efb6d5aac4db",
   "metadata": {},
   "outputs": [],
   "source": [
    "model.compile(optimizer=\"rmsprop\", loss=\"binary_crossentropy\", metrics=[\"accuracy\"])"
   ]
  },
  {
   "attachments": {},
   "cell_type": "markdown",
   "id": "b4050cd8-1be2-463a-ad9e-10fd3d94cbff",
   "metadata": {},
   "source": [
    "Alternative (configure optimizer & using custom losses and metrics):  \n",
    "`from keras import losses`  \n",
    "`from keras import metrics`  \n",
    "`model.compile(optimizer=optimizers.RMSprop(lr=0.001), \n",
    "loss=losses.binary_crossentropy,\n",
    "metrics=[metrics.binary_accuracy])`"
   ]
  },
  {
   "attachments": {},
   "cell_type": "markdown",
   "id": "b32837db-5b96-4381-9549-9c372086b706",
   "metadata": {},
   "source": [
    "### Validating the approach"
   ]
  },
  {
   "cell_type": "code",
   "execution_count": 14,
   "id": "4e1ebde8-adc6-4fa2-985c-398e72e8cbbd",
   "metadata": {},
   "outputs": [],
   "source": [
    "x_val = x_train[:10000]\n",
    "partial_x_train = x_train[10000:]\n",
    "\n",
    "y_val = y_train[:10000]\n",
    "partial_y_train = y_train[10000:]"
   ]
  },
  {
   "attachments": {},
   "cell_type": "markdown",
   "id": "2b29fbcc-d170-4c10-9b62-40a1782e29e6",
   "metadata": {},
   "source": [
    "### Train"
   ]
  },
  {
   "cell_type": "code",
   "execution_count": 15,
   "id": "e661e01d-6966-4ec0-86f7-8ef55f4885bf",
   "metadata": {},
   "outputs": [
    {
     "name": "stdout",
     "output_type": "stream",
     "text": [
      "Epoch 1/20\n",
      "30/30 [==============================] - 3s 62ms/step - loss: 0.5464 - accuracy: 0.7695 - val_loss: 0.4189 - val_accuracy: 0.8585\n",
      "Epoch 2/20\n",
      "30/30 [==============================] - 0s 12ms/step - loss: 0.3437 - accuracy: 0.8873 - val_loss: 0.3265 - val_accuracy: 0.8799\n",
      "Epoch 3/20\n",
      "30/30 [==============================] - 0s 10ms/step - loss: 0.2552 - accuracy: 0.9148 - val_loss: 0.2876 - val_accuracy: 0.8890\n",
      "Epoch 4/20\n",
      "30/30 [==============================] - 0s 10ms/step - loss: 0.2065 - accuracy: 0.9305 - val_loss: 0.2759 - val_accuracy: 0.8885\n",
      "Epoch 5/20\n",
      "30/30 [==============================] - 0s 10ms/step - loss: 0.1720 - accuracy: 0.9414 - val_loss: 0.2884 - val_accuracy: 0.8843\n",
      "Epoch 6/20\n",
      "30/30 [==============================] - 0s 10ms/step - loss: 0.1434 - accuracy: 0.9547 - val_loss: 0.2894 - val_accuracy: 0.8840\n",
      "Epoch 7/20\n",
      "30/30 [==============================] - 0s 10ms/step - loss: 0.1257 - accuracy: 0.9598 - val_loss: 0.2906 - val_accuracy: 0.8841\n",
      "Epoch 8/20\n",
      "30/30 [==============================] - 0s 11ms/step - loss: 0.1066 - accuracy: 0.9679 - val_loss: 0.3032 - val_accuracy: 0.8839\n",
      "Epoch 9/20\n",
      "30/30 [==============================] - 0s 10ms/step - loss: 0.0914 - accuracy: 0.9729 - val_loss: 0.3215 - val_accuracy: 0.8813\n",
      "Epoch 10/20\n",
      "30/30 [==============================] - 0s 10ms/step - loss: 0.0752 - accuracy: 0.9795 - val_loss: 0.3714 - val_accuracy: 0.8736\n",
      "Epoch 11/20\n",
      "30/30 [==============================] - 0s 12ms/step - loss: 0.0684 - accuracy: 0.9812 - val_loss: 0.3550 - val_accuracy: 0.8793\n",
      "Epoch 12/20\n",
      "30/30 [==============================] - 0s 11ms/step - loss: 0.0577 - accuracy: 0.9861 - val_loss: 0.3796 - val_accuracy: 0.8768\n",
      "Epoch 13/20\n",
      "30/30 [==============================] - 0s 12ms/step - loss: 0.0456 - accuracy: 0.9907 - val_loss: 0.4485 - val_accuracy: 0.8652\n",
      "Epoch 14/20\n",
      "30/30 [==============================] - 0s 13ms/step - loss: 0.0391 - accuracy: 0.9917 - val_loss: 0.4189 - val_accuracy: 0.8745\n",
      "Epoch 15/20\n",
      "30/30 [==============================] - 0s 11ms/step - loss: 0.0337 - accuracy: 0.9933 - val_loss: 0.4393 - val_accuracy: 0.8740\n",
      "Epoch 16/20\n",
      "30/30 [==============================] - 0s 11ms/step - loss: 0.0280 - accuracy: 0.9954 - val_loss: 0.4593 - val_accuracy: 0.8727\n",
      "Epoch 17/20\n",
      "30/30 [==============================] - 0s 11ms/step - loss: 0.0250 - accuracy: 0.9953 - val_loss: 0.4808 - val_accuracy: 0.8722\n",
      "Epoch 18/20\n",
      "30/30 [==============================] - 0s 10ms/step - loss: 0.0199 - accuracy: 0.9973 - val_loss: 0.5039 - val_accuracy: 0.8714\n",
      "Epoch 19/20\n",
      "30/30 [==============================] - 0s 11ms/step - loss: 0.0154 - accuracy: 0.9990 - val_loss: 0.5845 - val_accuracy: 0.8650\n",
      "Epoch 20/20\n",
      "30/30 [==============================] - 0s 11ms/step - loss: 0.0129 - accuracy: 0.9990 - val_loss: 0.5799 - val_accuracy: 0.8678\n"
     ]
    }
   ],
   "source": [
    "history = model.fit(\n",
    "    partial_x_train,\n",
    "    partial_y_train,\n",
    "    epochs=20,\n",
    "    batch_size=512,\n",
    "    validation_data=(x_val, y_val),\n",
    ")"
   ]
  },
  {
   "cell_type": "code",
   "execution_count": 16,
   "id": "29496518-1450-4739-bb51-5b3fd3d34d72",
   "metadata": {},
   "outputs": [
    {
     "data": {
      "text/plain": [
       "dict_keys(['loss', 'accuracy', 'val_loss', 'val_accuracy'])"
      ]
     },
     "execution_count": 16,
     "metadata": {},
     "output_type": "execute_result"
    }
   ],
   "source": [
    "history_dict = history.history\n",
    "history_dict.keys()"
   ]
  },
  {
   "cell_type": "code",
   "execution_count": 23,
   "id": "42ac7fbe",
   "metadata": {},
   "outputs": [
    {
     "data": {
      "text/plain": [
       "[0.5463536381721497,\n",
       " 0.3436603546142578,\n",
       " 0.25523751974105835,\n",
       " 0.20653201639652252,\n",
       " 0.1719857156276703,\n",
       " 0.14343619346618652,\n",
       " 0.125673308968544,\n",
       " 0.10662688314914703,\n",
       " 0.09144758433103561,\n",
       " 0.07519407570362091,\n",
       " 0.06844368577003479,\n",
       " 0.0576784573495388,\n",
       " 0.04564840346574783,\n",
       " 0.03914799913764,\n",
       " 0.033672627061605453,\n",
       " 0.02804562821984291,\n",
       " 0.02503507398068905,\n",
       " 0.01988503336906433,\n",
       " 0.015354342758655548,\n",
       " 0.012859267182648182]"
      ]
     },
     "execution_count": 23,
     "metadata": {},
     "output_type": "execute_result"
    }
   ],
   "source": [
    "history_dict[\"loss\"]"
   ]
  },
  {
   "attachments": {},
   "cell_type": "markdown",
   "id": "f726b06b-447b-4dad-9fe1-5acaa27ff045",
   "metadata": {},
   "source": [
    "### Plot training and validation loss"
   ]
  },
  {
   "cell_type": "code",
   "execution_count": 24,
   "id": "6d5edfce-0d70-4aa6-9e95-ee6f7643e7d1",
   "metadata": {},
   "outputs": [
    {
     "data": {
      "image/png": "[encoded data removed]",
      "text/plain": [
       "<Figure size 640x480 with 1 Axes>"
      ]
     },
     "metadata": {},
     "output_type": "display_data"
    }
   ],
   "source": [
    "loss = history_dict[\"loss\"]  # (train data) loss val for each epoch\n",
    "val_loss = history_dict[\"val_loss\"]  # (val data) loss val for each epoch\n",
    "\n",
    "epochs = range(1, 21)\n",
    "\n",
    "plt.plot(epochs, loss, \"bo\", label=\"Training loss\")\n",
    "plt.plot(epochs, val_loss, \"b\", label=\"Validation loss\")\n",
    "plt.title(\"Training and validation loss\")\n",
    "plt.xlabel(\"Epochs\")\n",
    "plt.ylabel(\"Loss\")\n",
    "plt.legend()\n",
    "\n",
    "plt.show()"
   ]
  },
  {
   "attachments": {},
   "cell_type": "markdown",
   "id": "5b7159ea-8a89-4507-ad28-0e80a919ebe3",
   "metadata": {},
   "source": [
    "### Plot training and validation accuracy"
   ]
  },
  {
   "cell_type": "code",
   "execution_count": 25,
   "id": "69de6851-9969-4bce-9924-52a21bb61071",
   "metadata": {},
   "outputs": [
    {
     "data": {
      "image/png": "[encoded data removed]",
      "text/plain": [
       "<Figure size 640x480 with 1 Axes>"
      ]
     },
     "metadata": {},
     "output_type": "display_data"
    }
   ],
   "source": [
    "acc_values = history_dict[\"accuracy\"]\n",
    "val_acc_values = history_dict[\"val_accuracy\"]\n",
    "\n",
    "plt.plot(epochs, acc_values, \"bo\", label=\"Training acc\")\n",
    "plt.plot(epochs, val_acc_values, \"b\", label=\"Validation acc\")\n",
    "plt.title(\"Training and validation accuracy\")\n",
    "plt.xlabel(\"Epochs\")\n",
    "plt.ylabel(\"Accuracy\")\n",
    "plt.legend()\n",
    "plt.show()"
   ]
  },
  {
   "attachments": {},
   "cell_type": "markdown",
   "id": "d6317a53-7500-4d93-bbbc-045abd74ea01",
   "metadata": {},
   "source": [
    "### Retraining the model using all training data"
   ]
  },
  {
   "cell_type": "code",
   "execution_count": 26,
   "id": "34ef42ff-5e51-4cf4-8447-6afeb038c545",
   "metadata": {},
   "outputs": [
    {
     "name": "stdout",
     "output_type": "stream",
     "text": [
      "Epoch 1/4\n",
      "49/49 [==============================] - 1s 8ms/step - loss: 0.4502 - accuracy: 0.8188\n",
      "Epoch 2/4\n",
      "49/49 [==============================] - 0s 8ms/step - loss: 0.2651 - accuracy: 0.9068\n",
      "Epoch 3/4\n",
      "49/49 [==============================] - 0s 7ms/step - loss: 0.2095 - accuracy: 0.9252\n",
      "Epoch 4/4\n",
      "49/49 [==============================] - 0s 7ms/step - loss: 0.1774 - accuracy: 0.9376\n",
      "782/782 [==============================] - 1s 1ms/step - loss: 0.2877 - accuracy: 0.8860\n"
     ]
    }
   ],
   "source": [
    "model = models.Sequential()\n",
    "model.add(layers.Dense(16, activation=\"relu\", input_shape=(10000,)))\n",
    "model.add(layers.Dense(16, activation=\"relu\"))\n",
    "model.add(layers.Dense(1, activation=\"sigmoid\"))\n",
    "model.compile(optimizer=\"rmsprop\", loss=\"binary_crossentropy\", metrics=[\"accuracy\"])\n",
    "model.fit(x_train, y_train, epochs=4, batch_size=512)\n",
    "results = model.evaluate(x_test, y_test)"
   ]
  },
  {
   "cell_type": "code",
   "execution_count": 29,
   "id": "e861c7f7-332e-40e5-a706-557c07113397",
   "metadata": {},
   "outputs": [
    {
     "name": "stdout",
     "output_type": "stream",
     "text": [
      "loss:  0.28769126534461975\n",
      "accuracy:  0.8859599828720093\n"
     ]
    }
   ],
   "source": [
    "print(\"loss: \", results[0])\n",
    "print(\"accuracy: \", results[1])"
   ]
  },
  {
   "attachments": {},
   "cell_type": "markdown",
   "id": "b45d197f-e25c-4f4a-9bd8-73c5ef21eec0",
   "metadata": {},
   "source": [
    "### Generating predictions on new data"
   ]
  },
  {
   "cell_type": "code",
   "execution_count": 30,
   "id": "86b4ab98-750f-4869-b0a2-aa07238db5a6",
   "metadata": {},
   "outputs": [
    {
     "name": "stdout",
     "output_type": "stream",
     "text": [
      "782/782 [==============================] - 1s 1ms/step\n"
     ]
    }
   ],
   "source": [
    "predictions = model.predict(x_test)"
   ]
  },
  {
   "cell_type": "code",
   "execution_count": 32,
   "id": "87ec02cf",
   "metadata": {},
   "outputs": [
    {
     "data": {
      "text/plain": [
       "array([[0.22178088],\n",
       "       [0.99985033],\n",
       "       [0.8658708 ],\n",
       "       ...,\n",
       "       [0.11515076],\n",
       "       [0.07169413],\n",
       "       [0.6581077 ]], dtype=float32)"
      ]
     },
     "execution_count": 32,
     "metadata": {},
     "output_type": "execute_result"
    }
   ],
   "source": [
    "predictions"
   ]
  },
  {
   "attachments": {},
   "cell_type": "markdown",
   "id": "b95b588b-d427-4817-bcb1-d474bc044a70",
   "metadata": {
    "jp-MarkdownHeadingCollapsed": true,
    "tags": []
   },
   "source": [
    "## Classifying newswires: a (single-label) multiclass classification example"
   ]
  },
  {
   "attachments": {},
   "cell_type": "markdown",
   "id": "03698c0c-c3d2-4d27-bd82-9eb1dd8a0af1",
   "metadata": {
    "tags": []
   },
   "source": [
    "### Imports"
   ]
  },
  {
   "cell_type": "code",
   "execution_count": 37,
   "id": "5fc9b771-e2f7-4ee1-91ad-bbb823576cc1",
   "metadata": {},
   "outputs": [],
   "source": [
    "from keras.datasets import reuters"
   ]
  },
  {
   "attachments": {},
   "cell_type": "markdown",
   "id": "54507063-8d41-4050-ab43-0734c229ac46",
   "metadata": {},
   "source": [
    "### Reuters dataset"
   ]
  },
  {
   "cell_type": "code",
   "execution_count": 38,
   "id": "269f188c-6b69-4aa7-be15-f9d6b2d093e3",
   "metadata": {},
   "outputs": [],
   "source": [
    "(train_data, train_labels), (test_data, test_labels) = reuters.load_data(\n",
    "    num_words=10000\n",
    ")"
   ]
  },
  {
   "cell_type": "code",
   "execution_count": 39,
   "id": "ca834292-04fb-4313-8303-f0262288d2ac",
   "metadata": {},
   "outputs": [
    {
     "name": "stdout",
     "output_type": "stream",
     "text": [
      "8982\n",
      "2246\n",
      "[1, 245, 273, 207, 156, 53, 74, 160, 26, 14, 46, 296, 26, 39, 74, 2979, 3554, 14, 46, 4689, 4329, 86, 61, 3499, 4795, 14, 61, 451, 4329, 17, 12]\n"
     ]
    }
   ],
   "source": [
    "print(len(train_data))\n",
    "print(len(test_data))\n",
    "print(train_data[10])"
   ]
  },
  {
   "cell_type": "code",
   "execution_count": 40,
   "id": "a63cc687-0291-4182-b6d6-2043988115f2",
   "metadata": {},
   "outputs": [],
   "source": [
    "def decode_newswire(index):\n",
    "    word_index = reuters.get_word_index()\n",
    "    reverse_word_index = dict([(value, key) for (key, value) in word_index.items()])\n",
    "    decoded_newswire = \" \".join(\n",
    "        [reverse_word_index.get(i - 3, \"?\") for i in train_data[index]]\n",
    "    )\n",
    "    return decoded_newswire"
   ]
  },
  {
   "cell_type": "code",
   "execution_count": 41,
   "id": "538cc5c4-746b-42af-a661-ae51e9478dcd",
   "metadata": {},
   "outputs": [
    {
     "data": {
      "text/plain": [
       "'? ? ? said as a result of its december acquisition of space co it expects earnings per share in 1987 of 1 15 to 1 30 dlrs per share up from 70 cts in 1986 the company said pretax net should rise to nine to 10 mln dlrs from six mln dlrs in 1986 and rental operation revenues to 19 to 22 mln dlrs from 12 5 mln dlrs it said cash flow per share this year should be 2 50 to three dlrs reuter 3'"
      ]
     },
     "execution_count": 41,
     "metadata": {},
     "output_type": "execute_result"
    }
   ],
   "source": [
    "decode_newswire(0)"
   ]
  },
  {
   "attachments": {},
   "cell_type": "markdown",
   "id": "0d19738d-8583-4df3-917c-619d13c92b73",
   "metadata": {},
   "source": [
    "### Preparing the data"
   ]
  },
  {
   "cell_type": "code",
   "execution_count": 79,
   "id": "cb9d695d-a172-4eaf-84c0-26e773fc4edb",
   "metadata": {},
   "outputs": [
    {
     "data": {
      "text/plain": [
       "8982"
      ]
     },
     "execution_count": 79,
     "metadata": {},
     "output_type": "execute_result"
    }
   ],
   "source": [
    "len(train_data)"
   ]
  },
  {
   "cell_type": "code",
   "execution_count": 80,
   "id": "a5bc4fac-b517-4882-b5bf-3ed9d453efc2",
   "metadata": {},
   "outputs": [
    {
     "data": {
      "text/plain": [
       "8982"
      ]
     },
     "execution_count": 80,
     "metadata": {},
     "output_type": "execute_result"
    }
   ],
   "source": [
    "len(train_labels)"
   ]
  },
  {
   "cell_type": "code",
   "execution_count": 81,
   "id": "e6147bdb-dced-4e6c-bf60-7345fe35ea81",
   "metadata": {},
   "outputs": [
    {
     "data": {
      "text/plain": [
       "25000"
      ]
     },
     "execution_count": 81,
     "metadata": {},
     "output_type": "execute_result"
    }
   ],
   "source": [
    "len(x_train)"
   ]
  },
  {
   "cell_type": "code",
   "execution_count": 82,
   "id": "eedbb567-a751-4766-a6a9-cda4344e9043",
   "metadata": {},
   "outputs": [],
   "source": [
    "## One-hot encode\n",
    "x_train = vectorize_sequences(train_data)\n",
    "x_test = vectorize_sequences(test_data)"
   ]
  },
  {
   "cell_type": "code",
   "execution_count": 83,
   "id": "eec1028a-2819-464b-9674-3c618839fcac",
   "metadata": {},
   "outputs": [
    {
     "name": "stdout",
     "output_type": "stream",
     "text": [
      "[1, 245, 273, 207, 156, 53, 74, 160, 26, 14, 46, 296, 26, 39, 74, 2979, 3554, 14, 46, 4689, 4329, 86, 61, 3499, 4795, 14, 61, 451, 4329, 17, 12]\n",
      "[0. 1. 0. ... 0. 0. 0.]\n",
      "31\n",
      "10000\n"
     ]
    }
   ],
   "source": [
    "print(train_data[10])\n",
    "print(x_train[10])\n",
    "\n",
    "print(len(train_data[10]))\n",
    "print(len(x_train[10]))"
   ]
  },
  {
   "cell_type": "code",
   "execution_count": null,
   "id": "dc1036e6",
   "metadata": {},
   "outputs": [],
   "source": []
  },
  {
   "cell_type": "code",
   "execution_count": 84,
   "id": "a1947c59-5ada-42b4-9a7e-39204d44dba1",
   "metadata": {},
   "outputs": [
    {
     "name": "stdout",
     "output_type": "stream",
     "text": [
      "8982\n"
     ]
    }
   ],
   "source": [
    "## Categorical encoding\n",
    "def to_one_hot(labels, dimension=46):\n",
    "    results = np.zeros((len(labels), dimension))\n",
    "    for i, label in enumerate(labels):\n",
    "        results[i, label] = 1.0\n",
    "    return results\n",
    "\n",
    "\n",
    "one_hot_train_labels = to_one_hot(train_labels)\n",
    "one_hot_test_labels = to_one_hot(test_labels)\n",
    "print(len(one_hot_train_labels))"
   ]
  },
  {
   "cell_type": "code",
   "execution_count": 85,
   "id": "cbb30edb",
   "metadata": {},
   "outputs": [
    {
     "name": "stdout",
     "output_type": "stream",
     "text": [
      "3\n",
      "[0. 0. 0. 1. 0. 0. 0. 0. 0. 0. 0. 0. 0. 0. 0. 0. 0. 0. 0. 0. 0. 0. 0. 0.\n",
      " 0. 0. 0. 0. 0. 0. 0. 0. 0. 0. 0. 0. 0. 0. 0. 0. 0. 0. 0. 0. 0. 0.]\n",
      "46\n",
      "\n",
      "8982\n",
      "8982\n"
     ]
    }
   ],
   "source": [
    "print(train_labels[2])\n",
    "print(one_hot_train_labels[2])\n",
    "print(len(one_hot_train_labels[2]), end=\"\\n\\n\")\n",
    "\n",
    "print(len(train_labels))\n",
    "print(len(one_hot_train_labels))"
   ]
  },
  {
   "attachments": {},
   "cell_type": "markdown",
   "id": "c178f2b1-5d66-4f85-af3f-d8597feb4aca",
   "metadata": {},
   "source": [
    "Equaivalent in built into Keras:  \n",
    "`from keras.utils.np_utils import to_categorical`\n",
    "\n",
    "`one_hot_train_labels = to_categorical(train_labels)`  \n",
    "`one_hot_test_labels = to_categorical(test_labels)`"
   ]
  },
  {
   "attachments": {},
   "cell_type": "markdown",
   "id": "c0f2c146-4ee0-466d-b50e-acf7b80ce44b",
   "metadata": {},
   "source": [
    "### Building the network"
   ]
  },
  {
   "cell_type": "code",
   "execution_count": 86,
   "id": "46e349d0-904f-448f-9688-2d3a7d385a2d",
   "metadata": {},
   "outputs": [],
   "source": [
    "model = models.Sequential()\n",
    "model.add(layers.Dense(64, activation=\"relu\", input_shape=(10000,)))\n",
    "model.add(layers.Dense(64, activation=\"relu\"))\n",
    "model.add(layers.Dense(46, activation=\"softmax\"))"
   ]
  },
  {
   "cell_type": "code",
   "execution_count": 87,
   "id": "05e29dcf-6dda-4285-af1b-248fc35ffa91",
   "metadata": {},
   "outputs": [],
   "source": [
    "model.compile(\n",
    "    optimizer=\"rmsprop\", loss=\"categorical_crossentropy\", metrics=[\"accuracy\"]\n",
    ")"
   ]
  },
  {
   "attachments": {},
   "cell_type": "markdown",
   "id": "ff14c513-dd39-4e11-9508-07e6abf9b186",
   "metadata": {},
   "source": [
    "### Validating the approach"
   ]
  },
  {
   "cell_type": "code",
   "execution_count": 88,
   "id": "7619bec4-96a2-4805-b862-d496d369b84d",
   "metadata": {},
   "outputs": [],
   "source": [
    "x_val = x_train[:1000]\n",
    "partial_x_train = x_train[1000:]\n",
    "\n",
    "y_val = one_hot_train_labels[:1000]\n",
    "partial_y_train = one_hot_train_labels[1000:]"
   ]
  },
  {
   "cell_type": "code",
   "execution_count": 89,
   "id": "453df4f3-d35b-462e-9f13-4a644ba0df12",
   "metadata": {},
   "outputs": [
    {
     "name": "stdout",
     "output_type": "stream",
     "text": [
      "8982\n",
      "8982\n",
      "\n",
      "7982\n",
      "7982\n"
     ]
    }
   ],
   "source": [
    "print(len(x_train))\n",
    "print(len(one_hot_train_labels), end=\"\\n\\n\")\n",
    "\n",
    "print(len(partial_x_train))\n",
    "print(len(partial_y_train))"
   ]
  },
  {
   "attachments": {},
   "cell_type": "markdown",
   "id": "932157a2-1d6e-4215-b868-b37c69d6c886",
   "metadata": {},
   "source": [
    "### Train"
   ]
  },
  {
   "cell_type": "code",
   "execution_count": 90,
   "id": "5077c268-8cfe-4b1d-96cc-a7d70c0d4c86",
   "metadata": {},
   "outputs": [
    {
     "name": "stdout",
     "output_type": "stream",
     "text": [
      "Epoch 1/20\n",
      "16/16 [==============================] - 1s 37ms/step - loss: 2.7383 - accuracy: 0.4448 - val_loss: 1.8336 - val_accuracy: 0.6110\n",
      "Epoch 2/20\n",
      "16/16 [==============================] - 0s 21ms/step - loss: 1.5469 - accuracy: 0.6750 - val_loss: 1.3738 - val_accuracy: 0.6960\n",
      "Epoch 3/20\n",
      "16/16 [==============================] - 0s 18ms/step - loss: 1.1759 - accuracy: 0.7456 - val_loss: 1.1833 - val_accuracy: 0.7390\n",
      "Epoch 4/20\n",
      "16/16 [==============================] - 0s 19ms/step - loss: 0.9599 - accuracy: 0.7905 - val_loss: 1.0828 - val_accuracy: 0.7540\n",
      "Epoch 5/20\n",
      "16/16 [==============================] - 0s 18ms/step - loss: 0.7976 - accuracy: 0.8271 - val_loss: 1.0014 - val_accuracy: 0.7790\n",
      "Epoch 6/20\n",
      "16/16 [==============================] - 0s 20ms/step - loss: 0.6651 - accuracy: 0.8495 - val_loss: 0.9429 - val_accuracy: 0.8030\n",
      "Epoch 7/20\n",
      "16/16 [==============================] - 0s 19ms/step - loss: 0.5610 - accuracy: 0.8782 - val_loss: 0.9187 - val_accuracy: 0.8090\n",
      "Epoch 8/20\n",
      "16/16 [==============================] - 0s 21ms/step - loss: 0.4725 - accuracy: 0.8949 - val_loss: 0.8911 - val_accuracy: 0.8050\n",
      "Epoch 9/20\n",
      "16/16 [==============================] - 0s 20ms/step - loss: 0.4008 - accuracy: 0.9121 - val_loss: 0.8774 - val_accuracy: 0.8080\n",
      "Epoch 10/20\n",
      "16/16 [==============================] - 0s 19ms/step - loss: 0.3431 - accuracy: 0.9237 - val_loss: 0.8776 - val_accuracy: 0.8110\n",
      "Epoch 11/20\n",
      "16/16 [==============================] - 0s 18ms/step - loss: 0.2950 - accuracy: 0.9347 - val_loss: 0.8646 - val_accuracy: 0.8230\n",
      "Epoch 12/20\n",
      "16/16 [==============================] - 0s 18ms/step - loss: 0.2591 - accuracy: 0.9422 - val_loss: 0.8648 - val_accuracy: 0.8150\n",
      "Epoch 13/20\n",
      "16/16 [==============================] - 0s 17ms/step - loss: 0.2275 - accuracy: 0.9479 - val_loss: 0.8794 - val_accuracy: 0.8210\n",
      "Epoch 14/20\n",
      "16/16 [==============================] - 0s 18ms/step - loss: 0.2083 - accuracy: 0.9484 - val_loss: 0.9406 - val_accuracy: 0.8030\n",
      "Epoch 15/20\n",
      "16/16 [==============================] - 0s 17ms/step - loss: 0.1861 - accuracy: 0.9509 - val_loss: 0.8944 - val_accuracy: 0.8220\n",
      "Epoch 16/20\n",
      "16/16 [==============================] - 0s 21ms/step - loss: 0.1739 - accuracy: 0.9521 - val_loss: 0.8958 - val_accuracy: 0.8160\n",
      "Epoch 17/20\n",
      "16/16 [==============================] - 0s 18ms/step - loss: 0.1602 - accuracy: 0.9544 - val_loss: 0.9603 - val_accuracy: 0.8020\n",
      "Epoch 18/20\n",
      "16/16 [==============================] - 0s 20ms/step - loss: 0.1442 - accuracy: 0.9555 - val_loss: 0.9537 - val_accuracy: 0.8200\n",
      "Epoch 19/20\n",
      "16/16 [==============================] - 0s 21ms/step - loss: 0.1423 - accuracy: 0.9563 - val_loss: 0.9170 - val_accuracy: 0.8120\n",
      "Epoch 20/20\n",
      "16/16 [==============================] - 0s 18ms/step - loss: 0.1359 - accuracy: 0.9565 - val_loss: 0.9577 - val_accuracy: 0.8080\n"
     ]
    }
   ],
   "source": [
    "history = model.fit(\n",
    "    partial_x_train,\n",
    "    partial_y_train,\n",
    "    epochs=20,\n",
    "    batch_size=512,\n",
    "    validation_data=(x_val, y_val),\n",
    ")"
   ]
  },
  {
   "attachments": {},
   "cell_type": "markdown",
   "id": "63e04a3e-2e0b-481b-84cd-437173839b72",
   "metadata": {},
   "source": [
    "### Plot training and validation loss"
   ]
  },
  {
   "cell_type": "code",
   "execution_count": 91,
   "id": "74b5b4a5-f201-421f-aaa0-fd8fa3f2901c",
   "metadata": {},
   "outputs": [
    {
     "data": {
      "image/png": "[encoded data removed]",
      "text/plain": [
       "<Figure size 640x480 with 1 Axes>"
      ]
     },
     "metadata": {},
     "output_type": "display_data"
    }
   ],
   "source": [
    "loss = history.history[\"loss\"]  # (train data) loss val for each epoch\n",
    "val_loss = history.history[\"val_loss\"]  # (val data) loss val for each epoch\n",
    "\n",
    "epochs = range(1, len(loss) + 1)\n",
    "\n",
    "plt.plot(epochs, loss, \"bo\", label=\"Training loss\")\n",
    "plt.plot(epochs, val_loss, \"b\", label=\"Validation loss\")\n",
    "plt.title(\"Training and validation loss\")\n",
    "plt.xlabel(\"Epochs\")\n",
    "plt.ylabel(\"Loss\")\n",
    "plt.legend()\n",
    "plt.show()"
   ]
  },
  {
   "attachments": {},
   "cell_type": "markdown",
   "id": "4e972d68-d7af-45cb-a06d-98a90d9bcd09",
   "metadata": {},
   "source": [
    "### Plot training and validation accuracy"
   ]
  },
  {
   "cell_type": "code",
   "execution_count": 92,
   "id": "ca0717c9-792a-49a1-a89b-80ab31cd2bb0",
   "metadata": {},
   "outputs": [
    {
     "data": {
      "image/png": "[encoded data removed]",
      "text/plain": [
       "<Figure size 640x480 with 1 Axes>"
      ]
     },
     "metadata": {},
     "output_type": "display_data"
    }
   ],
   "source": [
    "acc = history.history[\"accuracy\"]\n",
    "val_acc = history.history[\"val_accuracy\"]\n",
    "plt.plot(epochs, acc, \"bo\", label=\"Training acc\")\n",
    "plt.plot(epochs, val_acc, \"b\", label=\"Validation acc\")\n",
    "plt.title(\"Training and validation accuracy\")\n",
    "plt.xlabel(\"Epochs\")\n",
    "plt.ylabel(\"Loss\")\n",
    "plt.legend()\n",
    "plt.show()"
   ]
  },
  {
   "attachments": {},
   "cell_type": "markdown",
   "id": "cb795fa9-6c0f-4012-9e45-f7b729487e3b",
   "metadata": {},
   "source": [
    "### Retraining the model using all training data"
   ]
  },
  {
   "cell_type": "code",
   "execution_count": 93,
   "id": "f684a506-3673-4cb6-9098-dff58299e5f7",
   "metadata": {},
   "outputs": [
    {
     "name": "stdout",
     "output_type": "stream",
     "text": [
      "Epoch 1/9\n",
      "16/16 [==============================] - 1s 31ms/step - loss: 2.8674 - accuracy: 0.4662 - val_loss: 1.9162 - val_accuracy: 0.6200\n",
      "Epoch 2/9\n",
      "16/16 [==============================] - 0s 18ms/step - loss: 1.5772 - accuracy: 0.6708 - val_loss: 1.3841 - val_accuracy: 0.6930\n",
      "Epoch 3/9\n",
      "16/16 [==============================] - 0s 17ms/step - loss: 1.1929 - accuracy: 0.7456 - val_loss: 1.1937 - val_accuracy: 0.7340\n",
      "Epoch 4/9\n",
      "16/16 [==============================] - 0s 18ms/step - loss: 0.9686 - accuracy: 0.7963 - val_loss: 1.0838 - val_accuracy: 0.7610\n",
      "Epoch 5/9\n",
      "16/16 [==============================] - 0s 17ms/step - loss: 0.8075 - accuracy: 0.8301 - val_loss: 1.0016 - val_accuracy: 0.7850\n",
      "Epoch 6/9\n",
      "16/16 [==============================] - 0s 17ms/step - loss: 0.6754 - accuracy: 0.8607 - val_loss: 0.9400 - val_accuracy: 0.8060\n",
      "Epoch 7/9\n",
      "16/16 [==============================] - 0s 17ms/step - loss: 0.5618 - accuracy: 0.8842 - val_loss: 0.9196 - val_accuracy: 0.8030\n",
      "Epoch 8/9\n",
      "16/16 [==============================] - 0s 17ms/step - loss: 0.4771 - accuracy: 0.9007 - val_loss: 0.8765 - val_accuracy: 0.8160\n",
      "Epoch 9/9\n",
      "16/16 [==============================] - 0s 17ms/step - loss: 0.4036 - accuracy: 0.9151 - val_loss: 0.8667 - val_accuracy: 0.8230\n",
      "71/71 [==============================] - 0s 2ms/step - loss: 0.9476 - accuracy: 0.7796\n"
     ]
    }
   ],
   "source": [
    "model = models.Sequential()\n",
    "model.add(layers.Dense(64, activation=\"relu\", input_shape=(10000,)))\n",
    "model.add(layers.Dense(64, activation=\"relu\"))\n",
    "model.add(layers.Dense(46, activation=\"softmax\"))\n",
    "\n",
    "model.compile(\n",
    "    optimizer=\"rmsprop\", loss=\"categorical_crossentropy\", metrics=[\"accuracy\"]\n",
    ")\n",
    "\n",
    "model.fit(\n",
    "    partial_x_train,\n",
    "    partial_y_train,\n",
    "    epochs=9,\n",
    "    batch_size=512,\n",
    "    validation_data=(x_val, y_val),\n",
    ")\n",
    "\n",
    "results = model.evaluate(x_test, one_hot_test_labels)"
   ]
  },
  {
   "cell_type": "code",
   "execution_count": 94,
   "id": "051a4bf7-f1e2-488f-910a-163858cb3ce6",
   "metadata": {},
   "outputs": [
    {
     "name": "stdout",
     "output_type": "stream",
     "text": [
      "loss:  0.9475755095481873\n",
      "accuracy:  0.7796081900596619\n"
     ]
    }
   ],
   "source": [
    "print(\"loss: \", results[0])\n",
    "print(\"accuracy: \", results[1])"
   ]
  },
  {
   "attachments": {},
   "cell_type": "markdown",
   "id": "2099149c-3b19-418d-a905-c2071a0ac2cc",
   "metadata": {},
   "source": [
    "### Generating predictions on new data"
   ]
  },
  {
   "cell_type": "code",
   "execution_count": 95,
   "id": "c2df6671",
   "metadata": {},
   "outputs": [
    {
     "name": "stdout",
     "output_type": "stream",
     "text": [
      "71/71 [==============================] - 0s 2ms/step\n"
     ]
    }
   ],
   "source": [
    "predictions = model.predict(x_test)"
   ]
  },
  {
   "cell_type": "code",
   "execution_count": 100,
   "id": "d8a0c860-7c52-4035-b234-87aab0436cf6",
   "metadata": {},
   "outputs": [
    {
     "name": "stdout",
     "output_type": "stream",
     "text": [
      "prediction vector length: (46,)\n",
      "sum of predictions across categories: 0.9999998807907104\n",
      "class with highest probability: 3\n",
      "probability of class with highest probability: 0.5920656323432922\n"
     ]
    }
   ],
   "source": [
    "print(\n",
    "    f\"prediction vector length: {predictions[0].shape}\",\n",
    "    f\"sum of predictions across categories: {np.sum(predictions[0])}\",\n",
    "    f\"class with highest probability: {np.argmax(predictions[0])}\",\n",
    "    f\"probability of class with highest probability: {predictions[0][np.argmax(predictions[0])]}\",\n",
    "    sep=\"\\n\",\n",
    ")"
   ]
  },
  {
   "attachments": {},
   "cell_type": "markdown",
   "id": "efb79f8c-5e79-4886-a252-5fe4c625b320",
   "metadata": {},
   "source": [
    "## Predicting house prices: a regression example"
   ]
  },
  {
   "attachments": {},
   "cell_type": "markdown",
   "id": "4718ef73-4025-4b09-b148-7db84f3502f8",
   "metadata": {
    "tags": []
   },
   "source": [
    "### Imports"
   ]
  },
  {
   "cell_type": "code",
   "execution_count": 101,
   "id": "f6b393ee-782c-4814-9258-c318e042a08c",
   "metadata": {},
   "outputs": [],
   "source": [
    "from keras.datasets import boston_housing"
   ]
  },
  {
   "attachments": {},
   "cell_type": "markdown",
   "id": "45a0afce-4556-43a5-ad84-90b1d833bf31",
   "metadata": {},
   "source": [
    "### Boston housing dataset"
   ]
  },
  {
   "cell_type": "code",
   "execution_count": 110,
   "id": "a5a51e30-0a30-4de9-ae22-7ee6baba877c",
   "metadata": {},
   "outputs": [],
   "source": [
    "(train_data, train_targets), (test_data, test_targets) = boston_housing.load_data()"
   ]
  },
  {
   "cell_type": "code",
   "execution_count": 111,
   "id": "4f49efed-7b89-4e4e-8804-0a59a1c5de47",
   "metadata": {},
   "outputs": [
    {
     "name": "stdout",
     "output_type": "stream",
     "text": [
      "(404, 13)\n",
      "(102, 13)\n",
      "\n",
      "[  9.59571   0.       18.1       0.        0.693     6.404   100.\n",
      "   1.639    24.      666.       20.2     376.11     20.31   ]\n",
      "[2.2876e-01 0.0000e+00 8.5600e+00 0.0000e+00 5.2000e-01 6.4050e+00\n",
      " 8.5400e+01 2.7147e+00 5.0000e+00 3.8400e+02 2.0900e+01 7.0800e+01\n",
      " 1.0630e+01]\n"
     ]
    }
   ],
   "source": [
    "print(train_data.shape)\n",
    "print(test_data.shape, end=\"\\n\\n\")\n",
    "\n",
    "print(train_data[10])\n",
    "print(test_data[10])"
   ]
  },
  {
   "attachments": {},
   "cell_type": "markdown",
   "id": "d98f9309-ccdd-4803-989e-89694e609864",
   "metadata": {},
   "source": [
    "### Preparing the data"
   ]
  },
  {
   "cell_type": "code",
   "execution_count": 112,
   "id": "6a85a22c-983d-478c-ae11-8e34d8e1ce22",
   "metadata": {},
   "outputs": [
    {
     "name": "stdout",
     "output_type": "stream",
     "text": [
      "[ 0.63391647 -0.48361547  1.0283258  -0.25683275  1.15788777  0.19313958\n",
      "  1.11048828 -1.03628262  1.67588577  1.5652875   0.78447637  0.22689422\n",
      "  1.04466491]\n",
      "[-0.380999   -0.48361547 -0.37402299 -0.25683275 -0.31887859  0.1945502\n",
      "  0.58730449 -0.50578021 -0.51114231 -0.13178499  1.10299743 -3.02127105\n",
      " -0.29132553]\n"
     ]
    }
   ],
   "source": [
    "## Normalising (mean = 0, std = 1)\n",
    "# Use training data mean and std to normalise test data\n",
    "mean = train_data.mean(axis=0)\n",
    "train_data -= mean\n",
    "std = train_data.std(axis=0)\n",
    "train_data /= std\n",
    "test_data -= mean\n",
    "test_data /= std\n",
    "\n",
    "print(train_data[10])\n",
    "print(test_data[10])"
   ]
  },
  {
   "attachments": {},
   "cell_type": "markdown",
   "id": "d6c7bdc7-bf8d-4b3e-9206-abd5c48064de",
   "metadata": {},
   "source": [
    "### Building the network"
   ]
  },
  {
   "cell_type": "code",
   "execution_count": 113,
   "id": "704448b6-8139-482d-a256-e26021c7dfde",
   "metadata": {},
   "outputs": [],
   "source": [
    "## Create function this time!\n",
    "\n",
    "\n",
    "def build_model():\n",
    "    model = models.Sequential()\n",
    "    model.add(layers.Dense(64, activation=\"relu\", input_shape=(train_data.shape[1],)))\n",
    "    model.add(layers.Dense(64, activation=\"relu\"))\n",
    "    model.add(layers.Dense(1))\n",
    "    model.compile(optimizer=\"rmsprop\", loss=\"mse\", metrics=[\"mae\"])\n",
    "    return model"
   ]
  },
  {
   "attachments": {},
   "cell_type": "markdown",
   "id": "be008d32-3240-4837-8cf9-f5cfca49127c",
   "metadata": {},
   "source": [
    "### Validating the approach (K-fold validation)"
   ]
  },
  {
   "cell_type": "code",
   "execution_count": 114,
   "id": "453a4090-762d-4d22-b4bd-e3d032df62bf",
   "metadata": {},
   "outputs": [
    {
     "name": "stdout",
     "output_type": "stream",
     "text": [
      "processing fold # 0\n",
      "processing fold # 1\n",
      "processing fold # 2\n",
      "processing fold # 3\n"
     ]
    }
   ],
   "source": [
    "## 100 epochs and save the validation logs at each fold\n",
    "k = 4\n",
    "num_val_samples = len(train_data) // k\n",
    "\n",
    "num_epochs = 100\n",
    "all_scores = []\n",
    "\n",
    "\n",
    "for i in range(k):\n",
    "    print(\"processing fold #\", i)\n",
    "\n",
    "    # Prepares the validation data: data from partition #k\n",
    "    val_data = train_data[i * num_val_samples : (i + 1) * num_val_samples]\n",
    "    val_targets = train_targets[i * num_val_samples : (i + 1) * num_val_samples]\n",
    "\n",
    "    # Prepares the training data: data from all other partition\n",
    "    partial_train_data = np.concatenate(\n",
    "        [train_data[: i * num_val_samples],\n",
    "         train_data[(i + 1) * num_val_samples :]],\n",
    "        axis=0,\n",
    "    )\n",
    "    partial_train_targets = np.concatenate(\n",
    "        [train_targets[: i * num_val_samples],\n",
    "         train_targets[(i + 1) * num_val_samples :]],\n",
    "        axis=0,\n",
    "    )\n",
    "\n",
    "    # Builds the Keras model (already compiled)\n",
    "    model = build_model()\n",
    "    model.fit(\n",
    "        partial_train_data,\n",
    "        partial_train_targets,\n",
    "        epochs=num_epochs,\n",
    "        batch_size=1,\n",
    "        verbose=0,\n",
    "    )\n",
    "\n",
    "    # Evaluates the model on the validation data\n",
    "    val_mse, val_mae = model.evaluate(val_data, val_targets, verbose=0)\n",
    "    all_scores.append(val_mae)"
   ]
  },
  {
   "cell_type": "code",
   "execution_count": 115,
   "id": "f7896c39-aec6-4b3f-9d36-46967668a509",
   "metadata": {},
   "outputs": [
    {
     "name": "stdout",
     "output_type": "stream",
     "text": [
      "[2.1502480506896973, 2.5449514389038086, 2.9080450534820557, 2.3532145023345947]\n",
      "Mean:  2.489114761352539\n"
     ]
    }
   ],
   "source": [
    "print(all_scores)\n",
    "print(\"Mean: \", np.mean(all_scores))"
   ]
  },
  {
   "cell_type": "code",
   "execution_count": 116,
   "id": "bab4fd9b-55ce-4aab-bd1f-0c66315aba31",
   "metadata": {},
   "outputs": [
    {
     "name": "stdout",
     "output_type": "stream",
     "text": [
      "processing fold # 0\n",
      "processing fold # 1\n",
      "processing fold # 2\n",
      "processing fold # 3\n"
     ]
    }
   ],
   "source": [
    "## 500 epochs and save the validation logs at each epoch\n",
    "k = 4\n",
    "num_val_samples = len(train_data) // k\n",
    "\n",
    "num_epochs = 500\n",
    "all_mae_histories = []\n",
    "\n",
    "\n",
    "for i in range(k):\n",
    "    print(\"processing fold #\", i)\n",
    "\n",
    "    # Prepares the validation data: data from partition #k\n",
    "    val_data = train_data[i * num_val_samples : (i + 1) * num_val_samples]\n",
    "    val_targets = train_targets[i * num_val_samples : (i + 1) * num_val_samples]\n",
    "\n",
    "    # Prepares the training data: data from all other partition\n",
    "    partial_train_data = np.concatenate(\n",
    "        [train_data[: i * num_val_samples],\n",
    "         train_data[(i + 1) * num_val_samples :]],\n",
    "        axis=0,\n",
    "    )\n",
    "    partial_train_targets = np.concatenate(\n",
    "        [train_targets[: i * num_val_samples],\n",
    "         train_targets[(i + 1) * num_val_samples :]],\n",
    "        axis=0,\n",
    "    )\n",
    "\n",
    "    # Builds the Keras model (already compiled)\n",
    "    model = build_model()\n",
    "    history = model.fit(partial_train_data, partial_train_targets,\n",
    "                        validation_data=(val_data, val_targets), # evaluation now included in fit\n",
    "                        epochs=num_epochs, batch_size=1, verbose=0)\n",
    "\n",
    "    # Extract val_mean_absolute_error\n",
    "    mae_history = history.history['val_mae']\n",
    "    all_mae_histories.append(mae_history)"
   ]
  },
  {
   "cell_type": "code",
   "execution_count": 120,
   "id": "7d275b44-5f74-40b6-9d19-531c18d42f3f",
   "metadata": {},
   "outputs": [
    {
     "data": {
      "text/plain": [
       "dict_keys(['loss', 'mae', 'val_loss', 'val_mae'])"
      ]
     },
     "execution_count": 120,
     "metadata": {},
     "output_type": "execute_result"
    }
   ],
   "source": [
    "history.history.keys()"
   ]
  },
  {
   "cell_type": "code",
   "execution_count": 125,
   "id": "10df7be6-cfb3-4f1e-b28f-68cb6a38ea4c",
   "metadata": {},
   "outputs": [
    {
     "name": "stdout",
     "output_type": "stream",
     "text": [
      "length of mae history for fold 0: 500\n",
      "length of average mae history: 500\n",
      "4.350354075431824\n"
     ]
    }
   ],
   "source": [
    "average_mae_history = [\n",
    "    np.mean([x[i] for x in all_mae_histories]) for i in range(num_epochs)]\n",
    "\n",
    "print(\"length of mae history for fold 0:\", len(all_mae_histories[0]))\n",
    "print(\"length of average mae history:\", len(average_mae_history))\n",
    "print(average_mae_history[0])"
   ]
  },
  {
   "attachments": {},
   "cell_type": "markdown",
   "id": "d290fe8c-0014-4cea-b746-29651c6eac1d",
   "metadata": {},
   "source": [
    "### Plot validation loss (mae)"
   ]
  },
  {
   "cell_type": "code",
   "execution_count": 126,
   "id": "13878c44-7a16-4e2e-985d-543ae8edb602",
   "metadata": {},
   "outputs": [
    {
     "data": {
      "image/png": "[encoded data removed]",
      "text/plain": [
       "<Figure size 640x480 with 1 Axes>"
      ]
     },
     "metadata": {},
     "output_type": "display_data"
    }
   ],
   "source": [
    "plt.plot(range(1, len(average_mae_history) + 1), average_mae_history)\n",
    "plt.xlabel('Epochs')\n",
    "plt.ylabel('Validation MAE')\n",
    "plt.show()"
   ]
  },
  {
   "attachments": {},
   "cell_type": "markdown",
   "id": "936938a2-4d7c-48d4-aeee-8228f2e2d24e",
   "metadata": {},
   "source": [
    "It may be a little difficult to see the plot, due to scaling issues and relatively high variance.  \n",
    "We do the following:\n",
    "* Omit the first 10 data points, which are on a different scale than the rest of the curve.\n",
    "* Replace each point with an exponential moving average of the previous points, to obtain a smooth curve."
   ]
  },
  {
   "cell_type": "code",
   "execution_count": 127,
   "id": "eb66c42e-5962-4190-8e7f-8f12b3179e9e",
   "metadata": {},
   "outputs": [
    {
     "data": {
      "image/png": "[encoded data removed]",
      "text/plain": [
       "<Figure size 640x480 with 1 Axes>"
      ]
     },
     "metadata": {},
     "output_type": "display_data"
    }
   ],
   "source": [
    "def smooth_curve(points, factor=0.9):\n",
    "    smoothed_points = []\n",
    "    for point in points:\n",
    "        if smoothed_points:\n",
    "            previous = smoothed_points[-1]\n",
    "            smoothed_points.append(previous * factor + point * (1 - factor))\n",
    "        else:\n",
    "            smoothed_points.append(point)\n",
    "    return smoothed_points\n",
    "\n",
    "smooth_mae_history = smooth_curve(average_mae_history[10:])\n",
    "\n",
    "plt.plot(range(1, len(smooth_mae_history) + 1), smooth_mae_history)\n",
    "plt.xlabel('Epochs')\n",
    "plt.ylabel('Validation MAE')\n",
    "plt.show()"
   ]
  },
  {
   "attachments": {},
   "cell_type": "markdown",
   "id": "9e7a4942-2136-4088-b270-9b2fbfed40a0",
   "metadata": {},
   "source": [
    "### Train final model"
   ]
  },
  {
   "cell_type": "code",
   "execution_count": 128,
   "id": "dc0f0ab9-7895-48f5-9221-e9b9c88b0962",
   "metadata": {},
   "outputs": [
    {
     "name": "stdout",
     "output_type": "stream",
     "text": [
      "4/4 [==============================] - 0s 2ms/step - loss: 18.2071 - mae: 2.9429\n"
     ]
    }
   ],
   "source": [
    "model = build_model()\n",
    "model.fit(train_data, train_targets,\n",
    "          epochs=50, batch_size=16, verbose=0)\n",
    "\n",
    "test_mse_score, test_mae_score = model.evaluate(test_data, test_targets)"
   ]
  },
  {
   "cell_type": "code",
   "execution_count": 129,
   "id": "80f6a118-1004-4041-874e-9fae4c9df939",
   "metadata": {},
   "outputs": [
    {
     "data": {
      "text/plain": [
       "2.9429218769073486"
      ]
     },
     "execution_count": 129,
     "metadata": {},
     "output_type": "execute_result"
    }
   ],
   "source": [
    "test_mae_score"
   ]
  }
 ],
 "metadata": {
  "kernelspec": {
   "display_name": "ml",
   "language": "python",
   "name": "python3"
  },
  "language_info": {
   "codemirror_mode": {
    "name": "ipython",
    "version": 3
   },
   "file_extension": ".py",
   "mimetype": "text/x-python",
   "name": "python",
   "nbconvert_exporter": "python",
   "pygments_lexer": "ipython3",
   "version": "3.10.8"
  },
  "toc-autonumbering": true
 },
 "nbformat": 4,
 "nbformat_minor": 5
}
